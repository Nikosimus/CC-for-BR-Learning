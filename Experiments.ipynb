{
 "cells": [
  {
   "cell_type": "code",
   "execution_count": 1,
   "metadata": {
    "id": "MD-4dVs9m4Me"
   },
   "outputs": [],
   "source": [
    "import numpy as np\n",
    "from numpy.linalg import norm\n",
    "import pickle\n",
    "import matplotlib.pyplot as plt\n",
    "import itertools\n",
    "from scipy.stats import norm as norm_d\n",
    "from scipy.stats import expon\n",
    "from scipy.stats import weibull_min as weibull\n",
    "from scipy.stats import burr12 as burr\n",
    "from scipy.stats import randint\n",
    "from scipy.stats import uniform\n",
    "from scipy.optimize import minimize\n",
    "import copy\n",
    "import math\n",
    "import time\n",
    "from scipy.optimize import minimize\n",
    "from scipy.sparse.linalg import svds\n",
    "from scipy.linalg import svdvals\n",
    "import scipy\n",
    "from sklearn.datasets import load_svmlight_file\n",
    "import pickle\n",
    "from pathlib import Path\n",
    "from functions import *\n",
    "from utils import *\n",
    "from sklearn.preprocessing import StandardScaler\n",
    "\n",
    "# Algorithms\n",
    "from byz_vr_marina import *\n",
    "from byz_marina_no_sync import *\n",
    "from byz_dasha_page import *\n",
    "from byz_ef21 import *\n",
    "\n",
    "%matplotlib inline"
   ]
  },
  {
   "cell_type": "markdown",
   "metadata": {},
   "source": [
    "# Dataset Inspection"
   ]
  },
  {
   "cell_type": "code",
   "execution_count": 2,
   "metadata": {
    "colab": {
     "base_uri": "https://localhost:8080/"
    },
    "id": "aaLhN5_km9n_",
    "outputId": "fe74c382-eaff-4584-96ac-0509db5c04a4"
   },
   "outputs": [
    {
     "name": "stdout",
     "output_type": "stream",
     "text": [
      "CPU times: total: 0 ns\n",
      "Wall time: 0 ns\n"
     ]
    }
   ],
   "source": [
    "%%time\n",
    "dataset = \"phishing\"\n",
    "num_of_workers = 16\n",
    "num_of_byz = 3\n",
    "l2 = 0.1\n",
    "setting = 'NC'"
   ]
  },
  {
   "cell_type": "code",
   "execution_count": 3,
   "metadata": {},
   "outputs": [],
   "source": [
    "A, y, m, n, sparsity_A = prepare_data(dataset)"
   ]
  },
  {
   "cell_type": "code",
   "execution_count": 4,
   "metadata": {
    "colab": {
     "base_uri": "https://localhost:8080/"
    },
    "id": "lf7p7oUAnDUu",
    "outputId": "6b2d4d7b-75ae-4c61-d6ab-226018b49893"
   },
   "outputs": [
    {
     "name": "stdout",
     "output_type": "stream",
     "text": [
      "Datasize:  11055 , dimension:  68\n",
      "Smoothness constant of f         :  0.26256412732071766\n",
      "Average smoothness const of f_i :  0.266030184485412\n",
      "Worst smoothness const of f_ij   :  0.3499885367500001\n",
      "Sparsity of A:  0.4411764705882353\n",
      "CPU times: total: 0 ns\n",
      "Wall time: 17.8 ms\n"
     ]
    }
   ],
   "source": [
    "%%time\n",
    "\n",
    "G = num_of_workers - num_of_byz\n",
    "mul = int(m/G)\n",
    "A = A[:mul*G]\n",
    "y = y[:mul*G]\n",
    "\n",
    "denseA = A.toarray()\n",
    "clients_A, clients_y = distrib_data(A, y, num_of_workers, num_of_byz)\n",
    "# clients_A = [A for i in range(num_of_workers)]\n",
    "# clients_y = [y for i in range(num_of_workers)]\n",
    "L, average_L, worst_L = compute_L(dataset, A, clients_A, num_of_byz, l2)\n",
    "\n",
    "print(\"Datasize: \", m, \", dimension: \", n)\n",
    "print(\"Smoothness constant of f         : \", L)\n",
    "print(\"Average smoothness const of f_i : \", average_L)\n",
    "print(\"Worst smoothness const of f_ij   : \", worst_L)\n",
    "print(\"Sparsity of A: \", sparsity_A)"
   ]
  },
  {
   "cell_type": "markdown",
   "metadata": {},
   "source": [
    "# True Solution"
   ]
  },
  {
   "cell_type": "code",
   "execution_count": 5,
   "metadata": {
    "id": "fYL8C5cYnDX1"
   },
   "outputs": [],
   "source": [
    "filename=dataset+\"_x_init_all_ones\"\n",
    "x_init = np.ones(n)\n",
    "l1 = 0"
   ]
  },
  {
   "cell_type": "code",
   "execution_count": 6,
   "metadata": {
    "colab": {
     "base_uri": "https://localhost:8080/"
    },
    "id": "e2agQCHnnSYc",
    "outputId": "1229fe77-316d-4e94-f657-35c6b4ff4dca"
   },
   "outputs": [
    {
     "name": "stdout",
     "output_type": "stream",
     "text": [
      "False\n",
      "CPU times: total: 0 ns\n",
      "Wall time: 74.5 ms\n"
     ]
    }
   ],
   "source": [
    "%%time\n",
    "param = [A, y, l2, setting, l1]\n",
    "res_solver = minimize(F, x_init, args = param, jac=logreg_grad_plus_lasso, \n",
    "                      method='L-BFGS-B',\n",
    "                      options={'maxiter':10000, 'disp':True}, tol=1e-30)\n",
    "\n",
    "print(res_solver.success)"
   ]
  },
  {
   "cell_type": "code",
   "execution_count": 7,
   "metadata": {
    "id": "8N9LSp7JnSe1"
   },
   "outputs": [],
   "source": [
    "save_solution(dataset, l2, l1, np.array(res_solver.x), res_solver.fun)"
   ]
  },
  {
   "cell_type": "code",
   "execution_count": 8,
   "metadata": {},
   "outputs": [],
   "source": [
    "shift_param = 1.0\n",
    "x_star = read_solution(dataset, l2, l1)[0]\n",
    "f_star = read_solution(dataset, l2, l1)[1]\n",
    "x_init = x_star + shift_param*np.ones(n)"
   ]
  },
  {
   "cell_type": "code",
   "execution_count": 9,
   "metadata": {},
   "outputs": [
    {
     "name": "stdout",
     "output_type": "stream",
     "text": [
      "f(x^0) =  3.8770525500065443\n",
      "f(x^*) =  0.4871545436722106\n"
     ]
    }
   ],
   "source": [
    "print(\"f(x^0) = \", logreg_loss(x_init, [denseA, y, l2, setting]))\n",
    "print(\"f(x^*) = \", logreg_loss(x_star, [denseA, y, l2, setting]))"
   ]
  },
  {
   "cell_type": "markdown",
   "metadata": {},
   "source": [
    "# Algorithm Run"
   ]
  },
  {
   "cell_type": "code",
   "execution_count": 10,
   "metadata": {
    "id": "NQaT9fOGna32"
   },
   "outputs": [],
   "source": [
    "filename=dataset+\"_x_star_shifted_by_all_ones_shift_\"+str(shift_param)+'_'+setting+'_' \n",
    "attack = \"ROP\"\n",
    "agg = \"CM\"\n",
    "T = 5000\n",
    "save_info_period = 30 \n",
    "mul = int(m/G)\n",
    "\n",
    "bits_cieling = 1e4"
   ]
  },
  {
   "cell_type": "code",
   "execution_count": 11,
   "metadata": {},
   "outputs": [],
   "source": [
    "def gamma_th_ef_f(k):\n",
    "    R_ef = (2*n/k) * (1 + np.sqrt(8*(256/15)*num_of_byz/num_of_workers)) * average_L\n",
    "    return 1 / (L + R_ef)\n",
    "\n",
    "def p_m_f(k):\n",
    "    omega_m = n/k -1\n",
    "    return 1 /(omega_m + 1)\n",
    "\n",
    "def gamma_th_m(k):\n",
    "    omega_m = n/k - 1\n",
    "    R_no_sync = omega_m**2 * average_L**2* (np.sqrt(1/G) + np.sqrt(8*(256/15)*num_of_byz/num_of_workers))**2\n",
    "    return 1 / (L + R_no_sync ** 0.5)\n",
    "\n",
    "sparsificator_m = randk\n",
    "sparsificator_ef_up = topK\n",
    "sparsificator_ef_down = topK\n",
    "\n",
    "sparsificator_params_m = [1, 'rand-1']\n",
    "sparsificator_params_ef_up = [1, 'top-1']\n",
    "sparsificator_params_ef_down = [1, 'top-1']\n",
    "\n",
    "gamma_th_m_no_sync = gamma_th_m(sparsificator_params_m[0])\n",
    "p_m = p_m_f(sparsificator_params_m[0])\n",
    "\n",
    "gamma_th_ef = gamma_th_ef_f(sparsificator_params_ef_up[0])"
   ]
  },
  {
   "cell_type": "markdown",
   "metadata": {},
   "source": [
    "## MARINA hyperparameters"
   ]
  },
  {
   "cell_type": "code",
   "execution_count": 12,
   "metadata": {},
   "outputs": [],
   "source": [
    "batch_size = int(0.01*mul)\n",
    "\n",
    "sparsificator = randk\n",
    "sparsificator_params = [int(0.1 * n), \"rand-1\"]\n",
    "\n",
    "p = min((batch_size / mul), 1/n)\n",
    "R_m = 12 * max(n/sparsificator_params[0] -1, mul/batch_size)*((average_L**2 + worst_L**2/batch_size)*(n/sparsificator_params[0] -1) + worst_L**2/batch_size) * (1/G + (8*(256/15)*num_of_byz/num_of_workers)/p)+ 24 * max(n/sparsificator_params[0] -1, mul/batch_size) * (4*(256/15)*num_of_byz/num_of_workers)/p\n",
    "gamma_th_m = 1 / (L + R_m ** 0.5)\n",
    "\n",
    "bits_per_round = p *n +(1-p)*sparsificator_params[0]\n",
    "T_m = bits_cieling/bits_per_round"
   ]
  },
  {
   "cell_type": "code",
   "execution_count": 18,
   "metadata": {},
   "outputs": [
    {
     "data": {
      "text/plain": [
       "1518.9421015010723"
      ]
     },
     "execution_count": 18,
     "metadata": {},
     "output_type": "execute_result"
    }
   ],
   "source": [
    "T_m"
   ]
  },
  {
   "cell_type": "markdown",
   "metadata": {},
   "source": [
    "## DASHA hyperparameters"
   ]
  },
  {
   "cell_type": "code",
   "execution_count": 19,
   "metadata": {},
   "outputs": [],
   "source": [
    "batch_size = int(0.01*mul)\n",
    "\n",
    "sparsificator = randk\n",
    "sparsificator_params = [int(0.1 * n), \"rand-1\"]\n",
    "\n",
    "p_d = (batch_size / mul) \n",
    "mom = 1/(2*(n/sparsificator_params[0])-1)\n",
    "omega = n/sparsificator_params[0]-1\n",
    "\n",
    "R_dp =(12*omega*(2*omega+1)*(average_L**2 + worst_L**2/batch_size) + 2*(mul/batch_size)* worst_L**2/batch_size) * (np.sqrt(1/G) + np.sqrt(8*(256/15)*num_of_byz/num_of_workers))**2\n",
    "gamma_th_dp = 1 / (L + R_dp ** 0.5)\n",
    "T_dp = bits_cieling/sparsificator_params[0]"
   ]
  },
  {
   "cell_type": "code",
   "execution_count": 22,
   "metadata": {},
   "outputs": [
    {
     "data": {
      "text/plain": [
       "1666.6666666666667"
      ]
     },
     "execution_count": 22,
     "metadata": {},
     "output_type": "execute_result"
    }
   ],
   "source": [
    "T_dp "
   ]
  },
  {
   "cell_type": "markdown",
   "metadata": {},
   "source": [
    "## Finetuning Stepsize"
   ]
  },
  {
   "cell_type": "code",
   "execution_count": 23,
   "metadata": {},
   "outputs": [],
   "source": [
    "gammas_m_ns = [(2**i) * gamma_th_m_no_sync for i in range(0,10,2)]\n",
    "gammas_dp = [(2**i) * gamma_th_dp for i in range(0,10,2)]\n",
    "gammas_m = [(2**(i)) * gamma_th_m for i in range(0,10,2)]\n",
    "gammas_ef = [(2**i) * gamma_th_ef for i in range(0, 10, 2)]"
   ]
  },
  {
   "cell_type": "code",
   "execution_count": null,
   "metadata": {},
   "outputs": [],
   "source": [
    "for gamma in gammas_m_ns:\n",
    "    byz_vr_marina_no_sync(filename=filename, x_init=x_init, A=denseA, y=y, clients_A=clients_A, clients_y=clients_y, gamma=gamma, num_of_byz=num_of_byz, p=p, \n",
    "                    num_of_workers=num_of_workers, attack=attack, agg=agg, sparsificator=sparsificator, \n",
    "                    sparsificator_params=sparsificator_params, setting=setting, l2=l2,  T=T, max_t=np.inf, batch_size=batch_size, \n",
    "                    save_info_period=save_info_period, x_star=x_star, f_star=f_star)"
   ]
  },
  {
   "cell_type": "code",
   "execution_count": null,
   "metadata": {},
   "outputs": [],
   "source": [
    "for gamma in gammas_m:\n",
    "    byz_vr_marina(filename=filename, x_init=x_init, A=denseA, y=y, clients_A=clients_A, clients_y=clients_y, gamma=gamma, num_of_byz=num_of_byz, p=p, \n",
    "                    num_of_workers=num_of_workers, attack=attack, agg=agg, sparsificator=sparsificator, \n",
    "                    sparsificator_params=sparsificator_params, setting=setting, l2=l2,  T=T, max_t=np.inf, batch_size=batch_size, \n",
    "                    save_info_period=save_info_period, x_star=x_star, f_star=f_star)"
   ]
  },
  {
   "cell_type": "code",
   "execution_count": null,
   "metadata": {},
   "outputs": [],
   "source": [
    "for gamma in gammas_dp:\n",
    "    byz_dasha_page(filename=filename, x_init=x_init, A=denseA, y=y, clients_A=clients_A, clients_y=clients_y, gamma=gamma, num_of_byz=num_of_byz, p=p_d, mom=mom,\n",
    "                    num_of_workers=num_of_workers, attack=attack, agg=agg, sparsificator=sparsificator, \n",
    "                    sparsificator_params=sparsificator_params, setting=setting, l2=l2,  T=T, max_t=np.inf, batch_size=batch_size, \n",
    "                    save_info_period=save_info_period, x_star=x_star, f_star=f_star)"
   ]
  },
  {
   "cell_type": "code",
   "execution_count": null,
   "metadata": {},
   "outputs": [],
   "source": [
    "for gamma in gammas_ef:\n",
    "    byz_ef21(filename=filename, x_init=x_init, A=denseA, y=y, clients_A=clients_A, clients_y=clients_y, gamma=gamma, num_of_byz=num_of_byz, p=p_d, mom=mom,\n",
    "                    num_of_workers=num_of_workers, attack=attack, agg=agg, sparsificator=sparsificator, \n",
    "                    sparsificator_params=sparsificator_params, setting=setting, l2=l2,  T=T, max_t=np.inf, batch_size=batch_size, \n",
    "                    save_info_period=save_info_period, x_star=x_star, f_star=f_star)"
   ]
  },
  {
   "cell_type": "code",
   "execution_count": null,
   "metadata": {},
   "outputs": [],
   "source": [
    "methods = [\n",
    "    ['Byz_MARINA', [gammas_m_ns[i], l2, p_m, T, num_of_workers, num_of_byz, attack, agg, sparsificator_params_m[0]], None, r\"$2^{}$\".format(2*i)+\"gamma_th\"] for i in range(len(gammas_m_ns))\n",
    "]\n",
    "mode_y = 'norm_grad'\n",
    "mode_x = 'bits_passes'\n",
    "figsize = (12, 8)\n",
    "title_size = 30\n",
    "linewidth = 2\n",
    "markersize = 15\n",
    "legend_size = 20\n",
    "xlabel_size = 30\n",
    "ylabel_size = 40\n",
    "xticks_size = 20\n",
    "yticks_size = 30\n",
    "sizes = [title_size, linewidth, markersize, legend_size, xlabel_size, ylabel_size, xticks_size, yticks_size]\n",
    "title = dataset+\", \"+\"Byz_MARINA, \" + attack\n",
    "bbox_to_anchor = (1,1)\n",
    "legend_loc=\"upper right\"\n",
    "\n",
    "\n",
    "save_fig = [True, filename+\"_Byz_VR_MARINA_only_\"+attack+\"_\"+agg+\"_l2_\"+str(l2)+\"_num_of_workers_\"+str(num_of_workers)+\"_byz_\"+str(num_of_byz)+\"_iters.pdf\"]\n",
    "\n",
    "args_for_plots = [filename, mode_y, mode_x, figsize, sizes, title, methods, bbox_to_anchor, legend_loc, \"finetuning\", save_fig]\n",
    "make_plots(args_for_plots)"
   ]
  },
  {
   "cell_type": "markdown",
   "metadata": {},
   "source": [
    "## Runtime"
   ]
  },
  {
   "cell_type": "code",
   "execution_count": 24,
   "metadata": {},
   "outputs": [],
   "source": [
    "#after choosing the best stepsize\n",
    "gamma_m = gammas_m[4]\n",
    "gamma_m_no_sync = gammas_m_ns[2]\n",
    "gamma_dp = gammas_dp[3]\n",
    "gamma_ef = gammas_ef[4]"
   ]
  },
  {
   "cell_type": "code",
   "execution_count": 25,
   "metadata": {},
   "outputs": [],
   "source": [
    "attack = 'LF'"
   ]
  },
  {
   "cell_type": "code",
   "execution_count": 26,
   "metadata": {},
   "outputs": [
    {
     "name": "stdout",
     "output_type": "stream",
     "text": [
      "Data distributed correctly\n",
      "CPU times: total: 3.3 s\n",
      "Wall time: 3.52 s\n"
     ]
    }
   ],
   "source": [
    "%%time\n",
    "seed=123\n",
    "np.random.seed(seed)\n",
    "random.seed(seed)\n",
    "\n",
    "res = byz_vr_marina(filename=filename, x_init=x_init, A=denseA, y=y, clients_A=clients_A, clients_y=clients_y, gamma=gamma_m, num_of_byz=num_of_byz, p=p, \n",
    "                    num_of_workers=num_of_workers, attack=attack, agg=agg, sparsificator=sparsificator, \n",
    "                    sparsificator_params=sparsificator_params, setting=setting, l2=l2,  T=int(T/6), max_t=np.inf, batch_size=batch_size, \n",
    "                    save_info_period=save_info_period, x_star=x_star, f_star=f_star)"
   ]
  },
  {
   "cell_type": "code",
   "execution_count": 27,
   "metadata": {},
   "outputs": [
    {
     "name": "stdout",
     "output_type": "stream",
     "text": [
      "Data distributed correctly\n",
      "CPU times: total: 3.39 s\n",
      "Wall time: 3.5 s\n"
     ]
    }
   ],
   "source": [
    "%%time\n",
    "seed=123\n",
    "np.random.seed(seed)\n",
    "random.seed(seed)\n",
    "\n",
    "res_2 = byz_dasha_page(filename=filename, x_init=x_init, A=denseA, y=y, clients_A=clients_A, clients_y=clients_y, gamma=gamma_dp, num_of_byz=num_of_byz, p=p_d, mom=mom,\n",
    "                    num_of_workers=num_of_workers, attack=attack, agg=agg, sparsificator=sparsificator, \n",
    "                    sparsificator_params=sparsificator_params, setting=setting, l2=l2,  T=int(T/6), max_t=np.inf, batch_size=batch_size, \n",
    "                    save_info_period=save_info_period, x_star=x_star, f_star=f_star)"
   ]
  },
  {
   "cell_type": "code",
   "execution_count": 28,
   "metadata": {},
   "outputs": [
    {
     "name": "stdout",
     "output_type": "stream",
     "text": [
      "Data distributed correctly\n",
      "CPU times: total: 12.7 s\n",
      "Wall time: 13.4 s\n"
     ]
    }
   ],
   "source": [
    "%%time\n",
    "seed=123\n",
    "np.random.seed(seed)\n",
    "random.seed(seed)\n",
    "\n",
    "res3 = byz_ef21(filename=filename, x_init=x_init, A=denseA, y=y, clients_A=clients_A, clients_y=clients_y, gamma=gamma_ef,\n",
    "         num_of_byz=num_of_byz, num_of_workers=num_of_workers, attack=attack, agg=agg, sparsificator=sparsificator_ef_up, \n",
    "         sparsificator_params=sparsificator_params_ef_up, setting=setting, l2=l2, T=T, max_t=np.inf, \n",
    "         save_info_period=save_info_period, x_star=x_star, f_star=f_star)"
   ]
  },
  {
   "cell_type": "code",
   "execution_count": 29,
   "metadata": {},
   "outputs": [
    {
     "name": "stdout",
     "output_type": "stream",
     "text": [
      "Data distributed correctly\n",
      "CPU times: total: 10.8 s\n",
      "Wall time: 11.1 s\n"
     ]
    }
   ],
   "source": [
    "%%time\n",
    "seed=123\n",
    "np.random.seed(seed)\n",
    "random.seed(seed)\n",
    "\n",
    "res4 = byz_marina_no_sync(filename=filename, x_init=x_init, A=denseA, y=y, clients_A=clients_A, clients_y=clients_y,\n",
    "                   gamma=gamma_m_no_sync, num_of_byz=num_of_byz, p=p_m, num_of_workers=num_of_workers, attack=attack,\n",
    "                   agg=agg, sparsificator=sparsificator_m, sparsificator_params=sparsificator_params_m, setting=setting,\n",
    "                   l2=l2, T=T, max_t=np.inf, save_info_period=save_info_period, x_star=x_star, f_star=f_star)"
   ]
  },
  {
   "cell_type": "markdown",
   "metadata": {},
   "source": [
    "# Visualisation"
   ]
  },
  {
   "cell_type": "code",
   "execution_count": null,
   "metadata": {},
   "outputs": [],
   "source": [
    "methods = [\n",
    "    ['Byz_EF21', [gamma_ef, l2, T, num_of_workers, num_of_byz, attack, agg, sparsificator_params_ef_up[0]], None, 'Byz-EF21'],\n",
    "    ['Byz_VR_MARINA', [gamma_m, l2, p, int(T/6), num_of_workers, batch_size, num_of_byz, attack, agg], None, 'Byz-VR-MARINA'],\n",
    "    ['Byz_DASHA_PAGE', [gamma_dp, l2, p_d, int(T/6), num_of_workers, batch_size, num_of_byz, attack, agg], None, 'Byz-DASHA-PAGE'],\n",
    "    ['Byz_MARINA', [gamma_m_no_sync, l2, p_m, T, num_of_workers, num_of_byz, attack, agg, sparsificator_params_m[0]], None, 'Byz-VR-MARINA 2.0']\n",
    "    \n",
    "]\n",
    "mode_y = 'norm_grad'\n",
    "mode_x = 'bits_passes'\n",
    "figsize = (12, 8)\n",
    "title_size = 30\n",
    "linewidth = 2\n",
    "markersize = 15\n",
    "legend_size = 20\n",
    "xlabel_size = 30\n",
    "ylabel_size = 40\n",
    "xticks_size = 20\n",
    "yticks_size = 30\n",
    "sizes = [title_size, linewidth, markersize, legend_size, xlabel_size, ylabel_size, xticks_size, yticks_size]\n",
    "title = dataset+\", \"+attack\n",
    "bbox_to_anchor = (1,1)\n",
    "legend_loc=\"upper right\"\n",
    "\n",
    "\n",
    "save_fig = [True, filename+\"_All_\"+attack+\"_\"+agg+\"_epochs_\"+str(T)+\"_l2_\"+str(l2)+\"_num_of_workers_\"+str(num_of_workers)+\"_byz_\"+str(num_of_byz)+\"_batch_\"+str(batch_size)+\"_iters.pdf\"]\n",
    "\n",
    "args_for_plots = [filename, mode_y, mode_x, figsize, sizes, title, methods, bbox_to_anchor, legend_loc, \"comparison\", save_fig]\n",
    "make_plots(args_for_plots)"
   ]
  }
 ],
 "metadata": {
  "colab": {
   "collapsed_sections": [],
   "name": "BR-L-SVRG.ipynb",
   "provenance": []
  },
  "kernelspec": {
   "display_name": "Python 3 (ipykernel)",
   "language": "python",
   "name": "python3"
  },
  "language_info": {
   "codemirror_mode": {
    "name": "ipython",
    "version": 3
   },
   "file_extension": ".py",
   "mimetype": "text/x-python",
   "name": "python",
   "nbconvert_exporter": "python",
   "pygments_lexer": "ipython3",
   "version": "3.11.5"
  }
 },
 "nbformat": 4,
 "nbformat_minor": 1
}
